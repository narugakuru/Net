{
 "cells": [
  {
   "cell_type": "code",
   "execution_count": 9,
   "metadata": {},
   "outputs": [],
   "source": [
    "import os\n",
    "import shutil\n",
    "import subprocess\n",
    "\n",
    "# Convert dicom-like images to nii files in 3D\n",
    "# This is the first step for image pre-processing\n",
    "\n",
    "\n",
    "# DATAPATH = 'E:/CodeAchieve/Data/CHAOS/Train_Sets/MR'  \n",
    "# OUTPATH = 'E:/CodeAchieve/Data/CHAOS/Train_Sets/niis'\n",
    "\n",
    "# Feed path to the downloaded data here\n",
    "# please put chaos dataset training fold here which contains ground truth\n",
    "\n",
    "DATAPATH = 'E:/CodeAchieve/Data/CHAOS/Test_Sets/MR' \n",
    "# Feed path to the output folder here\n",
    "OUTPATH = 'E:/CodeAchieve/Data/CHAOS/Test_Sets/niis'\n",
    "\n",
    "\n",
    "# Create output directory if it doesn't exist\n",
    "output_dir = os.path.join(OUTPATH, 'T2SPIR')\n",
    "if not os.path.exists(output_dir):\n",
    "    os.makedirs(output_dir)\n"
   ]
  },
  {
   "cell_type": "code",
   "execution_count": 11,
   "metadata": {},
   "outputs": [],
   "source": [
    "for sid in os.listdir(DATAPATH):\n",
    "    # E:\\CodeAchieve\\Data\\CHAOS\\Train_Sets\\MR\\1\\T2SPIR\\DICOM_anon\n",
    "    T2SPIR = os.path.join(DATAPATH, sid, 'T2SPIR')\n",
    "    DICOM_anon = os.path.join(T2SPIR, 'DICOM_anon')\n",
    "    \n",
    "    # Convert DICOM to NIfTI\n",
    "    # subprocess.run(['E:/Environment/MRIcron/Resources/dcm2niix.exe', '-o', T2SPIR, DICOM_anon])\n",
    "    \n",
    "    # Move the converted NIfTI file to the output directory\n",
    "    for file in os.listdir(T2SPIR):\n",
    "        if file.endswith('.nii'):\n",
    "            src = os.path.join(T2SPIR, file)\n",
    "            dst = os.path.join(output_dir, f'image_{sid}.nii')\n",
    "            shutil.move(src, dst)\n",
    "        if file.endswith('.json'):\n",
    "            src = os.path.join(T2SPIR, file)\n",
    "            dst = os.path.join(output_dir, f'label_{sid}.json')\n",
    "            shutil.move(src, dst)"
   ]
  }
 ],
 "metadata": {
  "kernelspec": {
   "display_name": "CATNet",
   "language": "python",
   "name": "python3"
  },
  "language_info": {
   "codemirror_mode": {
    "name": "ipython",
    "version": 3
   },
   "file_extension": ".py",
   "mimetype": "text/x-python",
   "name": "python",
   "nbconvert_exporter": "python",
   "pygments_lexer": "ipython3",
   "version": "3.10.15"
  }
 },
 "nbformat": 4,
 "nbformat_minor": 2
}
